{
 "cells": [
  {
   "cell_type": "markdown",
   "metadata": {},
   "source": [
    "---\n",
    "comments: true\n",
    "layout: post\n",
    "title: Intial Plan\n",
    "description: Initial Plan\n",
    "type: plans\n",
    "courses: { compsci: {week: 0} }\n",
    "\n",
    "---"
   ]
  },
  {
   "cell_type": "markdown",
   "metadata": {},
   "source": [
    "# Roles and Time Management \n",
    "\n",
    "- Divorced_Coders\n",
    "- We will use a scrum board with setting tasks daily as this is a quick project and we want to make sure everybody collaborates together to work in frontend and backend. "
   ]
  },
  {
   "cell_type": "markdown",
   "metadata": {},
   "source": [
    "# Inital Idea \n",
    "- As our team is deeply intrested in the newly evolving house market and economy, in order to integrate that with the key requirements of this project we have decided that we wanted to create webage that uses api's, sorting and data analysis in order to create a marketplace for crypto currency. "
   ]
  },
  {
   "cell_type": "markdown",
   "metadata": {},
   "source": [
    "# App Breakdown \n",
    "- Search Feature: This feature intends to create a way to implement sorting, first we will have an interactive page that will contain all the crypto data displayed in the table, the user will then be able to search for a certain type of crypto, after the specific crypto is chosen, it will lead result in the last 10-20 transactions which are all pulled from the api, the size of transactions will be displayed from largest to smallest and vice versa, the user will then have the option to click what type of sort method to view the new data in heap sort , bubble sort, selection sort, insertion sort...etc...This data will then be store as number of itrteration so we can analyze data complezity, which return the type it took for each sort in order."
   ]
  },
  {
   "cell_type": "markdown",
   "metadata": {},
   "source": [
    "![cryto](https://github.com/divorced-coders/Divorced-Books-Backend/assets/111467012/b5f48c47-9e7d-4908-b71e-b4b9010126fa)"
   ]
  },
  {
   "cell_type": "markdown",
   "metadata": {},
   "source": [
    "# Frontend \n",
    "- Homepage: In our homepage we will create the table that contains all the crypto data in a table with name,transatctions, market symbol..etc..\n",
    "- Sort: We will have a page that redirects the user when they click on a specfic crypto which will allow them to chose to sort the transactions of the current crypto, after they will be returned with the time it took for the sort to implement BIG O analysis. \n",
    "- How: We will create frontend by fetching the backend and using js, we will also implement liquid sytling to give our homepage a uniform look without an excess amount of css so we will not have tags body and head tags in md files for style."
   ]
  },
  {
   "cell_type": "markdown",
   "metadata": {},
   "source": [
    "![demo](https://github.com/divorced-coders/Divorced-Books-Backend/assets/111467012/f4561b57-72f2-48ec-8886-9d782b63a74c)"
   ]
  },
  {
   "cell_type": "markdown",
   "metadata": {},
   "source": [
    "# Backend \n",
    "- First we will have a file that creates all the data from the api into a json file using CRUD api operations as used by covid api in spring templates. \n",
    "- Then we will initailize all the sorting methods in the backend by making sure that each are properly sorted using the types of sort's that we want to have .\n",
    "- Then we will need to somehow intialize the time complexity by running that and calling it in the frontend. "
   ]
  },
  {
   "cell_type": "markdown",
   "metadata": {},
   "source": [
    "![frontend mini project](https://github.com/divorced-coders/Divorced-Books-Backend/assets/111467012/e6a2e52e-921b-4598-af95-06720f809b1d)"
   ]
  }
 ],
 "metadata": {
  "language_info": {
   "name": "python"
  }
 },
 "nbformat": 4,
 "nbformat_minor": 2
}
